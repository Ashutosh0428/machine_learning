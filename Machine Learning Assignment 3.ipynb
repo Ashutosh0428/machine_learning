{
 "cells": [
  {
   "cell_type": "markdown",
   "id": "5f610d4f",
   "metadata": {},
   "source": [
    "# Machine Learning Assignment 3"
   ]
  },
  {
   "cell_type": "markdown",
   "id": "aa10dcc0",
   "metadata": {},
   "source": [
    "1. Explain the term machine learning, and how does it work? Explain two machine\n",
    "learning applications in the business world. What are some of the ethical concerns\n",
    "that machine learning applications could raise?"
   ]
  },
  {
   "cell_type": "markdown",
   "id": "ebfb3476",
   "metadata": {},
   "source": [
    "Machine learning (ML) is a type of artificial intelligence (AI) that allows software applications to become more accurate at predicting outcomes without being explicitly programmed to do so. Machine learning algorithms use historical data as input to predict new output values.Machine learning is important because it gives enterprises a view of trends in customer behavior and business operational patterns, as well as supports the development of new products. Many of today's leading companies, such as Facebook, Google and Uber, make machine learning a central part of their operations. "
   ]
  },
  {
   "cell_type": "markdown",
   "id": "13135e7f",
   "metadata": {},
   "source": [
    "2. Describe the process of human learning:\n",
    "i. Under the supervision of experts\n",
    "ii. With the assistance of experts in an indirect manner\n",
    "iii. Self-education"
   ]
  },
  {
   "cell_type": "markdown",
   "id": "1ef95781",
   "metadata": {},
   "source": [
    "i. supervised learning, which uses a set of human-labeled training data to develop a model. In supervised learning, the algorithm learns a set of inputs along with corresponding correct outputs. The training data used to create a machine learning model is assumed to be ground truth, meaning that its validity is not questioned–however, the model must still be tested for accuracy before it can be deployed.\n",
    "\n",
    "ii. indirect guidance from observing and interacting with others, artifacts and social forms and norms. The former, often referred to as proximal guidance, can comprise modeling.\n",
    "\n",
    "iii) can train itself using unlabeled data. On a high level, it works by analyzing a dataset and looking for patterns that it can draw conclusions from. It essentially learns to fill in the blanks."
   ]
  },
  {
   "cell_type": "markdown",
   "id": "1c3f04c4",
   "metadata": {},
   "source": [
    "3. Provide a few examples of various types of machine learning."
   ]
  },
  {
   "cell_type": "markdown",
   "id": "2bd1b269",
   "metadata": {},
   "source": [
    "There are four types of machine learning algorithms: supervised - text classification problems, semi-supervised- Speech recognition , unsupervised- K-Means Clustering, Principal Component Analysis and reinforcement - Robotic."
   ]
  },
  {
   "cell_type": "markdown",
   "id": "775bc776",
   "metadata": {},
   "source": [
    "4.Examine the various forms of machine learning."
   ]
  },
  {
   "cell_type": "markdown",
   "id": "059041dd",
   "metadata": {},
   "source": [
    "i)Supervised learning\n",
    "In supervised learning, the machine is taught by example. The operator provides the machine learning algorithm with a known dataset that includes desired inputs and outputs, and the algorithm must find a method to determine how to arrive at those inputs and outputs. \n",
    "\n",
    "ii)Semi-supervised learning\n",
    "Semi-supervised learning is similar to supervised learning, but instead uses both labelled and unlabelled data. Labelled data is essentially information that has meaningful tags so that the algorithm can understand the data, whilst unlabelled data lacks that information\n",
    "\n",
    "iii)Unsupervised learning\n",
    "Here, the machine learning algorithm studies data to identify patterns. There is no answer key or human operator to provide instruction. Instead, the machine determines the correlations and relationships by analysing available data.\n",
    "\n",
    "iv)Reinforcement learning\n",
    "Reinforcement learning focuses on regimented learning processes, where a machine learning algorithm is provided with a set of actions, parameters and end values. "
   ]
  },
  {
   "cell_type": "markdown",
   "id": "e1a615c6",
   "metadata": {},
   "source": [
    "5. Can you explain what a well-posed learning problem is? Explain the main\n",
    "characteristics that must be present to identify a learning problem properly."
   ]
  },
  {
   "cell_type": "markdown",
   "id": "39d66204",
   "metadata": {},
   "source": [
    "Well Posed Learning Problem – A computer program is said to learn from experience E in context to some task T and some performance measure P, if its performance on T, as was measured by P, upgrades with experience E. \n",
    "\n",
    "Any problem can be segregated as well-posed learning problem if it has three traits – \n",
    "\n",
    "Task\n",
    "Performance Measure \n",
    "Experience"
   ]
  },
  {
   "cell_type": "markdown",
   "id": "e640f136",
   "metadata": {},
   "source": [
    "6. Is machine learning capable of solving all problems? Give a detailed explanation of\n",
    "your answer."
   ]
  },
  {
   "cell_type": "markdown",
   "id": "363f0e2a",
   "metadata": {},
   "source": [
    "Machine learning is now seen as a silver bullet for solving all problems, but sometimes it is not the answer. “If a typical person can do a mental task with less than one second of thought, we can probably automate it using AI either now or in the near future."
   ]
  },
  {
   "cell_type": "markdown",
   "id": "30bd39f2",
   "metadata": {},
   "source": [
    "7. What are the various methods and technologies for solving machine learning\n",
    "problems? Any two of them should be defined in detail."
   ]
  },
  {
   "cell_type": "markdown",
   "id": "2a2e8bd5",
   "metadata": {},
   "source": [
    "Classification\n",
    "Another class of supervised ML, classification methods predict or explain a class value. For example, they can help predict whether or not an online customer will buy a product. The output can be yes or no: buyer or not buyer. But classification methods aren’t limited to two classes. For example, a classification method could help to assess whether a given image contains a car or a truck. In this case, the output will be 3 different values: 1) the image contains a car, 2) the image contains a truck, or 3) the image contains neither a car nor a truck.\n",
    "\n",
    "Clustering\n",
    "With clustering methods, we get into the category of unsupervised ML because their goal is to group or cluster observations that have similar characteristics. Clustering methods don’t use output information for training, but instead let the algorithm define the output. In clustering methods, we can only use visualizations to inspect the quality of the solution.\n",
    "\n",
    "The most popular clustering method is K-Means, where “K” represents the number of clusters that the user chooses to create. (Note that there are various techniques for choosing the value of K, such as the elbow method.)\n",
    "\n",
    "Roughly, what K-Means does with the data points:\n",
    "\n",
    "Randomly chooses K centers within the data.\n",
    "Assigns each data point to the closest of the randomly created centers.\n",
    "Re-computes the center of each cluster.\n",
    "If centers don’t change (or change very little), the process is finished. Otherwise, we return to step 2. (To prevent ending up in an infinite loop if the centers continue to change, set a maximum number of iterations in advance.)"
   ]
  },
  {
   "cell_type": "markdown",
   "id": "003b59cf",
   "metadata": {},
   "source": [
    "8. Can you explain the various forms of supervised learning? Explain each one with an\n",
    "example application."
   ]
  },
  {
   "cell_type": "markdown",
   "id": "2520e6fe",
   "metadata": {},
   "source": [
    "1. Regression\n",
    "In regression, a single output value is produced using training data. This value is a probabilistic interpretation, which is ascertained after considering the strength of correlation among the input variables. For example, regression can help predict the price of a house based on its locality, size, etc. \n",
    "\n",
    "In logistic regression, the output has discrete values based on a set of independent variables. This method can flounder when dealing with non-linear and multiple decision boundaries. Also, it is not flexible enough to capture complex relationships in datasets. \n",
    "\n",
    "\n",
    "2. Classification\n",
    "It involves grouping the data into classes.  If you are thinking of extending credit to a person, you can use classification to determine whether or not a person would be a loan defaulter. When the supervised learning algorithm labels input data into two distinct classes, it is called binary classification. Multiple classifications means categorizing data into more than two classes.\n",
    "\n",
    "3. Naive Bayesian Model\n",
    "The Bayesian model of classification is used for large finite datasets. It is a method of assigning class labels using a direct acyclic graph. The graph comprises one parent node and multiple children nodes. And each child node is assumed to be independent and separate from the parent. \n",
    "\n",
    "As the model for supervised learning in ML helps construct the classifiers in a simple and straightforward way, it works great with very small data sets. This model draws on common data assumptions, such as each attribute is independent. Yet having such simplification, this algorithm can easily be implemented on complex problems. \n",
    "\n",
    "4. Decision Trees\n",
    "\n",
    "A decision tree is a flowchart-like model that contains conditional control statements, comprising decisions and their probable consequences. The output relates to the labelling of unforeseen data. \n",
    "\n",
    "In the tree representation, the leaf nodes correspond to class labels, and the internal nodes represent the attributes. A decision tree can be used to solve problems with discrete attributes as well as boolean functions. Some of the notable decision tree algorithms are ID3 and CART.\n",
    "\n",
    "5. Random Forest Model\n",
    "The random forest model is an ensemble method. It operates by constructing a multitude of decision trees and outputs a classification of the individual trees. Suppose you want to predict which undergraduate students will perform well in GMAT – a test taken for admission into graduate management programs. A random forest model would accomplish the task, given the demographic and educational factors of a set of students who have previously taken the test. "
   ]
  },
  {
   "cell_type": "code",
   "execution_count": null,
   "id": "30c6e035",
   "metadata": {},
   "outputs": [],
   "source": []
  },
  {
   "cell_type": "markdown",
   "id": "76af7611",
   "metadata": {},
   "source": [
    "9. What is the difference between supervised and unsupervised learning? With a\n",
    "sample application in each region, explain the differences."
   ]
  },
  {
   "cell_type": "markdown",
   "id": "90ac6fac",
   "metadata": {},
   "source": [
    " Supervised Learning\n",
    "Supervised learning describes a class of problem that involves using a model to learn a mapping between input examples and the target variable.\n",
    "\n",
    "Applications in which the training data comprises examples of the input vectors along with their corresponding target vectors are known as supervised learning problems.\n",
    "\n",
    "\n",
    "Models are fit on training data comprised of inputs and outputs and used to make predictions on test sets where only the inputs are provided and the outputs from the model are compared to the withheld target variables and used to estimate the skill of the model.\n",
    "\n",
    "Learning is a search through the space of possible hypotheses for one that will perform well, even on new examples beyond the training set. To measure the accuracy of a hypothesis we give it a test set of examples that are distinct from the training set.\n",
    "\n",
    "\n",
    "There are two main types of supervised learning problems: they are classification that involves predicting a class label and regression that involves predicting a numerical value.\n",
    "\n",
    "Classification: Supervised learning problem that involves predicting a class label.\n",
    "Regression: Supervised learning problem that involves predicting a numerical label.\n",
    "\n",
    "Both classification and regression problems may have one or more input variables and input variables may be any data type, such as numerical or categorical.\n",
    "\n",
    "\n",
    "\n",
    "\n",
    "\n",
    "Unsupervised Learning\n",
    "Unsupervised learning describes a class of problems that involves using a model to describe or extract relationships in data.\n",
    "\n",
    "Compared to supervised learning, unsupervised learning operates upon only the input data without outputs or target variables. As such, unsupervised learning does not have a teacher correcting the model, as in the case of supervised learning.\n",
    "\n",
    "In unsupervised learning, there is no instructor or teacher, and the algorithm must learn to make sense of the data without this guide.\n",
    "\n",
    "\n",
    "There are many types of unsupervised learning, although there are two main problems that are often encountered by a practitioner: they are clustering that involves finding groups in the data and density estimation that involves summarizing the distribution of data.\n",
    "\n",
    "Clustering: Unsupervised learning problem that involves finding groups in data.\n",
    "Density Estimation: Unsupervised learning problem that involves summarizing the distribution of data.\n",
    "An example of a clustering algorithm is k-Means where k refers to the number of clusters to discover in the data. An example of a density estimation algorithm is Kernel Density Estimation that involves using small groups of closely related data samples to estimate the distribution for new points in the problem space."
   ]
  },
  {
   "cell_type": "markdown",
   "id": "b41046a1",
   "metadata": {},
   "source": [
    "10. Describe the machine learning process in depth."
   ]
  },
  {
   "cell_type": "markdown",
   "id": "dcbc9741",
   "metadata": {},
   "source": [
    "Machine learning is important because it gives enterprises a view of trends in customer behavior and business operational patterns, as well as supports the development of new products. Many of today's leading companies, such as Facebook, Google and Uber, make machine learning a central part of their operations. Machine learning has become a significant competitive differentiator for many companies.\n",
    "\n",
    "Classical machine learning is often categorized by how an algorithm learns to become more accurate in its predictions. There are four basic approaches:supervised learning, unsupervised learning, semi-supervised learning and reinforcement learning. The type of algorithm data scientists choose to use depends on what type of data they want to predict."
   ]
  },
  {
   "cell_type": "code",
   "execution_count": null,
   "id": "fe5f5ec8",
   "metadata": {},
   "outputs": [],
   "source": []
  }
 ],
 "metadata": {
  "kernelspec": {
   "display_name": "Python 3 (ipykernel)",
   "language": "python",
   "name": "python3"
  },
  "language_info": {
   "codemirror_mode": {
    "name": "ipython",
    "version": 3
   },
   "file_extension": ".py",
   "mimetype": "text/x-python",
   "name": "python",
   "nbconvert_exporter": "python",
   "pygments_lexer": "ipython3",
   "version": "3.9.7"
  }
 },
 "nbformat": 4,
 "nbformat_minor": 5
}
