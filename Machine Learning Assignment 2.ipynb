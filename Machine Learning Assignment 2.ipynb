{
 "cells": [
  {
   "cell_type": "markdown",
   "id": "6e2200e5",
   "metadata": {},
   "source": [
    "1. What is the concept of human learning? Please give two examples."
   ]
  },
  {
   "cell_type": "markdown",
   "id": "e96506f5",
   "metadata": {},
   "source": [
    "human learning proceeds at a far more rapid pace, being able to learn a huge diversity of skills from a relatively small number of examples than any known machine learning approach.\n",
    "Consider a normal human child. By the time he or she is 3–4 years old, the child has acquired competency in language understanding and generation (usually multiple languages in today's highly ethnically diverse environment); a large number of motor skills including walking, running, grasping objects"
   ]
  },
  {
   "cell_type": "markdown",
   "id": "12a2fa51",
   "metadata": {},
   "source": [
    "2. What different forms of human learning are there? Are there any machine learning\n",
    "equivalents?"
   ]
  },
  {
   "cell_type": "markdown",
   "id": "b1cd6e7b",
   "metadata": {},
   "source": [
    "The most basic form is associative learning, i.e., making a new association between events in the environment. There are two forms of associative learning: classical conditioning (made famous by Ivan Pavlov's experiments with dogs) and operant conditioning.\n",
    "There are many ways to frame this idea, but largely there are three major recognized categories: supervised learning, unsupervised learning, and reinforcement learning."
   ]
  },
  {
   "cell_type": "markdown",
   "id": "aed7348f",
   "metadata": {},
   "source": [
    "3. What is machine learning, and how does it work? What are the key responsibilities\n",
    "of machine learning?"
   ]
  },
  {
   "cell_type": "markdown",
   "id": "f8d061ce",
   "metadata": {},
   "source": [
    "Machine Learning is an AI technique that teaches computers to learn from experience. Machine learning algorithms use computational methods to “learn” information directly from data without relying on a predetermined equation as a model.\n",
    "Designing ML systems.\n",
    "\n",
    "Researching and implementing ML algorithms and tools.\n",
    "\n",
    "Selecting appropriate data sets.\n",
    "\n",
    "Picking appropriate data representation methods.\n",
    "\n",
    "Identifying differences in data distribution that affects model performance.\n",
    "\n",
    "Verifying data quality."
   ]
  },
  {
   "cell_type": "markdown",
   "id": "281d0bda",
   "metadata": {},
   "source": [
    "4. Define the terms \"penalty\" and \"reward\" in the context of reinforcement learning."
   ]
  },
  {
   "cell_type": "markdown",
   "id": "34320af3",
   "metadata": {},
   "source": [
    "The agent receives rewards by performing correctly and penalties for performing incorrectly. The agent learns without intervention from a human by maximizing its reward and minimizing its penalty."
   ]
  },
  {
   "cell_type": "markdown",
   "id": "33464d33",
   "metadata": {},
   "source": [
    "5. Explain the term \"learning as a search\"?"
   ]
  },
  {
   "cell_type": "markdown",
   "id": "02d652a4",
   "metadata": {},
   "source": [
    " The learner searches through a space of hypotheses (we will explain what they are), to find the best one.The answer is the one that fits the training examples the best."
   ]
  },
  {
   "cell_type": "markdown",
   "id": "19219ac5",
   "metadata": {},
   "source": [
    "6. What are the various goals of machine learning? What is the relationship between\n",
    "these and human learning?"
   ]
  },
  {
   "cell_type": "markdown",
   "id": "5239b3ed",
   "metadata": {},
   "source": [
    "The Goals of Machine Learning.\n",
    "(1) To make the computers smarter, more intelligent. The more direct objective in this aspect is to develop systems (programs) for specific practical learning tasks in application domains. (2) To dev elop computational models of human learning process and perform computer simulations.\n",
    "\n",
    "Humans acquire knowledge through experience either directly or shared by others. Machines acquire knowledge through experience shared in the form of past data. We have the terms, Knowledge, Skill, and Memory being used to define intelligence. Just because you have good memory, that does not mean you are intelligent."
   ]
  },
  {
   "cell_type": "markdown",
   "id": "4f88c82d",
   "metadata": {},
   "source": [
    "7.Illustrate the various elements of machine learning using a real-life illustration."
   ]
  },
  {
   "cell_type": "markdown",
   "id": "35f84c60",
   "metadata": {},
   "source": [
    " voice search technology, image recognition, automated translation, self-driven cars, etc"
   ]
  },
  {
   "cell_type": "markdown",
   "id": "959dfd19",
   "metadata": {},
   "source": [
    "8. Provide an example of the abstraction method."
   ]
  },
  {
   "cell_type": "markdown",
   "id": "6df97b8d",
   "metadata": {},
   "source": [
    "An abstract method is a method that is declared, but contains no implementation. Abstract classes may not be instantiated, and its abstract methods must be implemented by its subclasses."
   ]
  },
  {
   "cell_type": "markdown",
   "id": "77d66113",
   "metadata": {},
   "source": [
    "9. What is the concept of generalization? What function does it play in the machine learning process?"
   ]
  },
  {
   "cell_type": "markdown",
   "id": "b6c87009",
   "metadata": {},
   "source": [
    "Generalization refers to your model's ability to adapt properly to new, previously unseen data, drawn from the same distribution as the one used to create the model. Develop intuition about overfitting. Determine whether a model is good or not"
   ]
  },
  {
   "cell_type": "markdown",
   "id": "3a791412",
   "metadata": {},
   "source": [
    "10. What is classification, exactly? What are the main distinctions between classification and regression?"
   ]
  },
  {
   "cell_type": "markdown",
   "id": "1c43d6f8",
   "metadata": {},
   "source": [
    "The main difference between Regression and Classification algorithms that Regression algorithms are used to predict the continuous values such as price, salary, age, etc. and Classification algorithms are used to predict/Classify the discrete values such as Male or Female, True or False, Spam or Not Spam, etc."
   ]
  },
  {
   "cell_type": "markdown",
   "id": "f76d62bb",
   "metadata": {},
   "source": [
    "11. What is regression, and how does it work? Give an example of a real-world\n",
    "problem that was solved using regression."
   ]
  },
  {
   "cell_type": "markdown",
   "id": "211602fa",
   "metadata": {},
   "source": [
    " Regression works by using an independent variable to predict the values of dependent variable. In linear regression, a line of best fit is used to obtain an equation from the training dataset which can then be used to predict the values of the testing dataset.\n",
    " \n",
    " Impact of SAT Score (or GPA) on College Admissions\n",
    " \n",
    "Impact of product price on number of sales\n",
    "\n",
    "Impact of rainfall amount on number fruits yielded\n",
    "\n",
    "Impact of blood alcohol content on coordination"
   ]
  },
  {
   "cell_type": "markdown",
   "id": "e5dae2d2",
   "metadata": {},
   "source": [
    "12. Describe the clustering mechanism in detail."
   ]
  },
  {
   "cell_type": "markdown",
   "id": "7c606da3",
   "metadata": {},
   "source": [
    "Clustering is the task of dividing the population or data points into a number of groups such that data points in the same groups are more similar to other data points in the same group than those in other groups. In simple words, the aim is to segregate groups with similar traits and assign them into clusters."
   ]
  },
  {
   "cell_type": "code",
   "execution_count": null,
   "id": "1918ea25",
   "metadata": {},
   "outputs": [],
   "source": []
  }
 ],
 "metadata": {
  "kernelspec": {
   "display_name": "Python 3 (ipykernel)",
   "language": "python",
   "name": "python3"
  },
  "language_info": {
   "codemirror_mode": {
    "name": "ipython",
    "version": 3
   },
   "file_extension": ".py",
   "mimetype": "text/x-python",
   "name": "python",
   "nbconvert_exporter": "python",
   "pygments_lexer": "ipython3",
   "version": "3.9.7"
  }
 },
 "nbformat": 4,
 "nbformat_minor": 5
}
