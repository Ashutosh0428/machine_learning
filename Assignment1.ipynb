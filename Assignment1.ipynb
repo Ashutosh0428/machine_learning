{
 "cells": [
  {
   "cell_type": "markdown",
   "id": "2f55f31f",
   "metadata": {},
   "source": [
    "# Machine Learning Assignment 1"
   ]
  },
  {
   "cell_type": "markdown",
   "id": "b1d6a98d",
   "metadata": {},
   "source": [
    "1. What does one mean by the term \"machine learning\"?"
   ]
  },
  {
   "cell_type": "markdown",
   "id": "46022863",
   "metadata": {},
   "source": [
    " It's a subset of artificial intelligence (AI), which focuses on using statistical techniques to build intelligent computer systems to learn from available databases."
   ]
  },
  {
   "cell_type": "markdown",
   "id": "eadaf12f",
   "metadata": {},
   "source": [
    "2. Can you think of 4 distinct issues where it shines?"
   ]
  },
  {
   "cell_type": "markdown",
   "id": "027fd250",
   "metadata": {},
   "source": [
    "Machine learning algorithms have had good results on problems such has spam detection in email, cancer diagnosis, fraudulent credit card transactions, and automatically driving vehicle"
   ]
  },
  {
   "cell_type": "markdown",
   "id": "8abb4714",
   "metadata": {},
   "source": [
    "3. What is a labelled training set, and how does it work?"
   ]
  },
  {
   "cell_type": "markdown",
   "id": "1b8683d5",
   "metadata": {},
   "source": [
    "A labeled training set is a collection of data where one of the features of the data indicates the class the training example belongs to. A labeled training set is used in supervised learning algorithms."
   ]
  },
  {
   "cell_type": "markdown",
   "id": "c99be044",
   "metadata": {},
   "source": [
    "4. What are the two most important tasks that are supervised?"
   ]
  },
  {
   "cell_type": "markdown",
   "id": "15f0a265",
   "metadata": {},
   "source": [
    "The two most common supervised learning tasks are regression and classification. In a regression problem we our prediciton is a scalar value. When we're trying to solve a classification problem, our output is either 1 or 0."
   ]
  },
  {
   "cell_type": "markdown",
   "id": "267bb153",
   "metadata": {},
   "source": [
    "5) Can you name 4 common unsupervised tasks?\n",
    "\n",
    "\n",
    "Common unsupervised tasks include clustering, visualization, dimensionality reduction and association rule learning."
   ]
  },
  {
   "cell_type": "markdown",
   "id": "71fb69fd",
   "metadata": {},
   "source": [
    "6). State the machine learning model that would be best to make a robot walk through\n",
    "various unfamiliar terrains?"
   ]
  },
  {
   "cell_type": "markdown",
   "id": "5ed72aa1",
   "metadata": {},
   "source": [
    "The best Machine Learning algorithm to allow a robot to walk in unknown terrain is Reinforced Learning, where the robot can learn from response of the terrain to optimize itself."
   ]
  },
  {
   "cell_type": "markdown",
   "id": "20985aa9",
   "metadata": {},
   "source": [
    "7. Which algorithm will you use to divide your customers into different groups?"
   ]
  },
  {
   "cell_type": "markdown",
   "id": "079ce6cd",
   "metadata": {},
   "source": [
    "finding the decision boundaries in the groups automatically. This is an unsupervised approach. However, if I already knew the categories of my customers, then I would choose a supervised approach and go with a classification algorithm.We will use the k-means clustering algorithm to derive the optimum number of clusters and understand the underlying customer segments based on the data provided."
   ]
  },
  {
   "cell_type": "markdown",
   "id": "d2a6622d",
   "metadata": {},
   "source": [
    "8.Will you consider the problem of spam detection to be a supervised or unsupervised\n",
    "learning problem?"
   ]
  },
  {
   "cell_type": "markdown",
   "id": "65df3944",
   "metadata": {},
   "source": [
    "I would frame it as a supervised learning problem because humans have a general idea about what spam is and what it isn't. We can use this notion to create a labeled dataset for an algorithm to learn from . The labels are known (spam or no spam)."
   ]
  },
  {
   "cell_type": "markdown",
   "id": "642f4798",
   "metadata": {},
   "source": [
    "9. What is the concept of an online learning system?"
   ]
  },
  {
   "cell_type": "markdown",
   "id": "50d0484c",
   "metadata": {},
   "source": [
    "Online learning system is a learning system in which the machine learns as data is given in small streams continuously."
   ]
  },
  {
   "cell_type": "markdown",
   "id": "17e4fbe4",
   "metadata": {},
   "source": [
    "10. What is out-of-core learning, and how does it differ from core learning?"
   ]
  },
  {
   "cell_type": "markdown",
   "id": "9d6c7401",
   "metadata": {},
   "source": [
    "Out-of-core learning is used when a dataset is too large to fit into a computer's memory. The algorithm loads part of the data, runs a training step, then repeats the process until it has run on all the data."
   ]
  },
  {
   "cell_type": "markdown",
   "id": "e9c2f693",
   "metadata": {},
   "source": [
    "11. What kind of learning algorithm makes predictions using a similarity\n",
    "measure?"
   ]
  },
  {
   "cell_type": "markdown",
   "id": "41ceddd4",
   "metadata": {},
   "source": [
    "Instance-based learning algorithms use a measure of similarity to generalize to new cases. In an instance-based learning system, the algorithm learns the examples by heart, then uses the similarity measure to generalize."
   ]
  },
  {
   "cell_type": "markdown",
   "id": "ec4cac58",
   "metadata": {},
   "source": [
    "12. What's the difference between a model parameter and a hyperparameter in a\n",
    "learning algorithm?"
   ]
  },
  {
   "cell_type": "markdown",
   "id": "f35a05e5",
   "metadata": {},
   "source": [
    "Model parameter determines how a model will predict given a new instance; model usually has more than one parameter (i.e. slope of a linear model). Hyperparameter is a parameter for the learning algorithm, not of a model"
   ]
  },
  {
   "cell_type": "markdown",
   "id": "d3e9a00d",
   "metadata": {},
   "source": [
    "13. What are the criteria that model-based learning algorithms look for? What is\n",
    "the most popular method they use to achieve success? What method do they use\n",
    "to make predictions?"
   ]
  },
  {
   "cell_type": "markdown",
   "id": "b02ba5be",
   "metadata": {},
   "source": [
    "Model based learning algorithm search for the optimal value of parameters in a model that will give the best results for the new instances. We often use a cost function or similar to determine what the parameter value has to be in order to minimize the function. The model makes prediction by using the value of the new instance and the parameters in its function."
   ]
  },
  {
   "cell_type": "code",
   "execution_count": null,
   "id": "84d7d777",
   "metadata": {},
   "outputs": [],
   "source": []
  }
 ],
 "metadata": {
  "kernelspec": {
   "display_name": "Python 3 (ipykernel)",
   "language": "python",
   "name": "python3"
  },
  "language_info": {
   "codemirror_mode": {
    "name": "ipython",
    "version": 3
   },
   "file_extension": ".py",
   "mimetype": "text/x-python",
   "name": "python",
   "nbconvert_exporter": "python",
   "pygments_lexer": "ipython3",
   "version": "3.9.7"
  }
 },
 "nbformat": 4,
 "nbformat_minor": 5
}
